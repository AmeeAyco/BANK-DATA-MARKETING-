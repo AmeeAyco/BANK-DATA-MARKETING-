{
 "cells": [
  {
   "cell_type": "code",
   "execution_count": 2,
   "metadata": {},
   "outputs": [],
   "source": [
    "import pandas as pd\n",
    "import numpy as np"
   ]
  },
  {
   "cell_type": "code",
   "execution_count": 3,
   "metadata": {},
   "outputs": [],
   "source": [
    "# CSV Data were read from the folder. Append all dataset    \n",
    "missing=[\"No Info\",\"None\",\"none\"] \n",
    "BankData = [\"bank.csv\", \"bank-full.csv\", \"bank-additional.csv\",\"bank-additional-full.csv\"] \n",
    "df_Bank_Data = pd.DataFrame()\n",
    "for BankData in BankData:\n",
    "   df_Bank_Data = df_Bank_Data.append(pd.read_csv(BankData,na_values=missing,sep=\";\"))\n"
   ]
  },
  {
   "cell_type": "code",
   "execution_count": 4,
   "metadata": {},
   "outputs": [
    {
     "name": "stdout",
     "output_type": "stream",
     "text": [
      "<class 'pandas.core.frame.DataFrame'>\n",
      "Int64Index: 95039 entries, 0 to 41187\n",
      "Data columns (total 23 columns):\n",
      " #   Column          Non-Null Count  Dtype  \n",
      "---  ------          --------------  -----  \n",
      " 0   age             95039 non-null  int64  \n",
      " 1   job             95039 non-null  object \n",
      " 2   marital         95039 non-null  object \n",
      " 3   education       95039 non-null  object \n",
      " 4   default         95039 non-null  object \n",
      " 5   balance         49732 non-null  float64\n",
      " 6   housing         95039 non-null  object \n",
      " 7   loan            95039 non-null  object \n",
      " 8   contact         95039 non-null  object \n",
      " 9   day             49732 non-null  float64\n",
      " 10  month           95039 non-null  object \n",
      " 11  duration        95039 non-null  int64  \n",
      " 12  campaign        95039 non-null  int64  \n",
      " 13  pdays           95039 non-null  int64  \n",
      " 14  previous        95039 non-null  int64  \n",
      " 15  poutcome        95039 non-null  object \n",
      " 16  y               95039 non-null  object \n",
      " 17  day_of_week     45307 non-null  object \n",
      " 18  emp.var.rate    45307 non-null  float64\n",
      " 19  cons.price.idx  45307 non-null  float64\n",
      " 20  cons.conf.idx   45307 non-null  float64\n",
      " 21  euribor3m       45307 non-null  float64\n",
      " 22  nr.employed     45307 non-null  float64\n",
      "dtypes: float64(7), int64(5), object(11)\n",
      "memory usage: 17.4+ MB\n"
     ]
    }
   ],
   "source": [
    "#output first 5 rows just to see the first 5 values of the dataset\n",
    "df_Bank_Data.info()"
   ]
  },
  {
   "cell_type": "code",
   "execution_count": null,
   "metadata": {},
   "outputs": [],
   "source": []
  }
 ],
 "metadata": {
  "kernelspec": {
   "display_name": "Python 3",
   "language": "python",
   "name": "python3"
  },
  "language_info": {
   "codemirror_mode": {
    "name": "ipython",
    "version": 3
   },
   "file_extension": ".py",
   "mimetype": "text/x-python",
   "name": "python",
   "nbconvert_exporter": "python",
   "pygments_lexer": "ipython3",
   "version": "3.7.6"
  }
 },
 "nbformat": 4,
 "nbformat_minor": 5
}
